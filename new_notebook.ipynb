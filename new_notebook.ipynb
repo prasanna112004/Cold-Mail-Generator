{
 "cells": [
  {
   "cell_type": "code",
   "execution_count": 1,
   "id": "a51fd342",
   "metadata": {},
   "outputs": [
    {
     "name": "stdout",
     "output_type": "stream",
     "text": [
      "The full name of Sachin T is Sachin Tendulkar. He is a former Indian international cricketer and widely regarded as one of the greatest batsmen in the history of cricket.\n"
     ]
    }
   ],
   "source": [
    "from langchain_groq import ChatGroq\n",
    "\n",
    "llm = ChatGroq(\n",
    "    model=\"llama-3.3-70b-versatile\",\n",
    "    temperature=0,\n",
    "    api_key=\"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\"\n",
    ")\n",
    "\n",
    "\n",
    "response = llm.invoke(\"What is the full name of Sachin T\")\n",
    "print(response.content)\n"
   ]
  },
  {
   "cell_type": "code",
   "execution_count": 2,
   "id": "64002cb8",
   "metadata": {},
   "outputs": [
    {
     "name": "stderr",
     "output_type": "stream",
     "text": [
      "USER_AGENT environment variable not set, consider setting it to identify your requests.\n"
     ]
    },
    {
     "name": "stdout",
     "output_type": "stream",
     "text": [
      "\n",
      "\n",
      "\n",
      "\n",
      "\n",
      "\n",
      "\n",
      "\n",
      "\n",
      "\n",
      "\n",
      "\n",
      "\n",
      "\n",
      "Bangalore, India\n",
      "Amazon JobsTeamsLocationsJob categoriesResourcesAccommodationsBenefitsInclusive experiencesInterviewing at AmazonLeadership PrinciplesWorking at AmazonFAQLocaleLanguage: en-USAmazon JobsSearchSearchLocaleLanguage: en-USÂ Search for jobsTitle or keywordLocationSearchSearch Bangalore, IndiaAt Amazon, weâ€™re looking for passionate innovators across the world to create the next best thing for our customers. Explore open roles at each of our locations and apply today.Equal opportunityAmazon is an equal opportunity employer and does not discriminate on the basis of protected veteran status, disability, or other legally protected status.Career areasTeamsLocationsJob categoriesHourly jobsMilitary hiringUniversity talentResourcesAccommodationsBenefitsInclusive experiencesInterviewing at AmazonLeadership PrinciplesWorking at AmazonFAQStart your Amazon journeyShare your resume and basic info to get personalized job recommendations and more.Create an accountAmazon sitesAmazon.comAbout AmazonAmazon Web ServicesAmazon AdsAmazon DesignAmazon ScienceSocialLinkedInInstagramFacebookYouTubeXPrivacyConditions of useCookie preferencesLegal disclosures and noticesTranslation disclaimerÂ© 1996-2025, Amazon.com, Inc. or its affiliatesserver-rendered production build for production in eu-west-1\n"
     ]
    }
   ],
   "source": [
    "from langchain_community.document_loaders import WebBaseLoader\n",
    "\n",
    "loader = WebBaseLoader(\"https://www.amazon.jobs/content/en/locations/india/bangalore\")\n",
    "page_data = loader.load().pop().page_content\n",
    "print(page_data)"
   ]
  },
  {
   "cell_type": "code",
   "execution_count": 3,
   "id": "0f12bd73",
   "metadata": {},
   "outputs": [
    {
     "name": "stdout",
     "output_type": "stream",
     "text": [
      "```json\n",
      "[\n",
      "  {\n",
      "    \"role\": \"Software Development Engineer\",\n",
      "    \"experience\": \"2+ years\",\n",
      "    \"skills\": [\"Java\", \"Python\", \"C++\"],\n",
      "    \"description\": \"Design, develop, and test software applications\"\n",
      "  },\n",
      "  {\n",
      "    \"role\": \"Data Scientist\",\n",
      "    \"experience\": \"5+ years\",\n",
      "    \"skills\": [\"Machine Learning\", \"Data Analysis\", \"Statistics\"],\n",
      "    \"description\": \"Analyze and interpret complex data to inform business decisions\"\n",
      "  },\n",
      "  {\n",
      "    \"role\": \"Product Manager\",\n",
      "    \"experience\": \"3+ years\",\n",
      "    \"skills\": [\"Product Development\", \"Marketing\", \"Leadership\"],\n",
      "    \"description\": \"Develop and launch new products to drive business growth\"\n",
      "  }\n",
      "]\n",
      "```\n"
     ]
    }
   ],
   "source": [
    "from langchain_core.prompts import ChatPromptTemplate,PromptTemplate\n",
    "\n",
    "prompt_extract = PromptTemplate.from_template(\n",
    "    \"\"\"\n",
    "    ### SCRAPED DATA FROM WEBSITE:\n",
    "    {page_data}\n",
    "    ### INSTRUCTION:\n",
    "    The scraped data is from the career's page of a website\n",
    "    Your job is to extract the job posting and return them in JSON format containing the \n",
    "    following keys: \"role\",\"experience\",\"skills\" and \"description\".\n",
    "    Only return the valid JSON.\n",
    "    ### VALID JSON (NO PREAMBLE):\n",
    "    \"\"\"\n",
    "    \n",
    ")\n",
    "chain_extract = prompt_extract | llm\n",
    "res = chain_extract.invoke(input={'page_data':page_data})\n",
    "print(res.content)"
   ]
  },
  {
   "cell_type": "code",
   "execution_count": 24,
   "id": "3381e637",
   "metadata": {},
   "outputs": [
    {
     "name": "stdout",
     "output_type": "stream",
     "text": [
      "[{'role': 'Software Development Engineer', 'experience': '2+ years', 'skills': ['Java', 'Python', 'C++'], 'description': 'Design, develop, and test software applications'}, {'role': 'Data Scientist', 'experience': '5+ years', 'skills': ['Machine Learning', 'Data Analysis', 'Statistics'], 'description': 'Analyze and interpret complex data to inform business decisions'}, {'role': 'Product Manager', 'experience': '3+ years', 'skills': ['Product Development', 'Marketing', 'Leadership'], 'description': 'Develop and launch new products to drive business growth'}]\n"
     ]
    },
    {
     "data": {
      "text/plain": [
       "list"
      ]
     },
     "execution_count": 24,
     "metadata": {},
     "output_type": "execute_result"
    }
   ],
   "source": [
    "from langchain_core.output_parsers import JsonOutputParser\n",
    "\n",
    "json_parser = JsonOutputParser()\n",
    "json_res = json_parser.parse(res.content)\n",
    "print(json_res)\n",
    "type(json_res)\n"
   ]
  },
  {
   "cell_type": "code",
   "execution_count": 11,
   "id": "c40f0307",
   "metadata": {},
   "outputs": [
    {
     "name": "stdout",
     "output_type": "stream",
     "text": [
      "                                  Techstack  \\\n",
      "0                   React, Node.js, MongoDB   \n",
      "1                  Angular,.NET, SQL Server   \n",
      "2         Vue.js, Ruby on Rails, PostgreSQL   \n",
      "3                     Python, Django, MySQL   \n",
      "4               « Java, Spring Boot, Oracle   \n",
      "5              7 Flutter, Firebase, GraphQL   \n",
      "6                     WordPress, PHP, MySQL   \n",
      "7                       Magento, PHP, MySQL   \n",
      "8            React Native, Node.js, MongoDB   \n",
      "9                     iOS, Swift, Core Data   \n",
      "10          Android, Java, Room Persistence   \n",
      "11                Kotlin, Android, Firebase   \n",
      "12          Android TV, Kotlin, Android NDK   \n",
      "13                        IOS, Swift, ARKit   \n",
      "14           Cross-platform, Xamarin, Azure   \n",
      "15            Backend, Kotlin, Spring Boot    \n",
      "16            Frontend, TypeScript, Angular   \n",
      "17       Full-stack, JavaScript, Express.js   \n",
      "18   Machine Learning, Python, TensorFlow _   \n",
      "19                  DevOps, Jenkins, Docker   \n",
      "\n",
      "                                                Links  \n",
      "0                 https://example.com/react-portfolio  \n",
      "1               https://example.com/angular-portfolio  \n",
      "2                   https://example.com/vue-portfolio  \n",
      "3                https://example.com/python-portfolio  \n",
      "4                  https://example.com/java-portfolio  \n",
      "5               https://example.com/flutter-portfolio  \n",
      "6             https://example.com/wordpress-portfolio  \n",
      "7               https://example.com/magento-portfolio  \n",
      "8          https://example.com/react-native-portfolio  \n",
      "9                   https://example.com/ios-portfolio  \n",
      "10              https://example.com/android-portfolio  \n",
      "11       https://example.com/kotlin-android-portfolio  \n",
      "12           https://example.com/android-tv-portfolio  \n",
      "13               https://example.com/ios-ar-portfolio  \n",
      "14              https://example.com/xamarin-portfolio  \n",
      "15       https://example.com/kotlin-backend-portfolio  \n",
      "16  https://example.com/typescript-frontend-portfolio  \n",
      "17        https://example.com/full-stack-js-portfolio  \n",
      "18            https://example.com/ml-python-portfolio  \n",
      "19               https://example.com/devops-portfolio  \n"
     ]
    }
   ],
   "source": [
    "import pandas as pd\n",
    "\n",
    "df = pd.read_csv(\"techstack_links.csv\")\n",
    "print(df)"
   ]
  },
  {
   "cell_type": "code",
   "execution_count": 12,
   "id": "b9f5c43a",
   "metadata": {},
   "outputs": [],
   "source": [
    "import uuid\n",
    "import chromadb\n",
    "from chromadb import PersistentClient\n",
    "client = PersistentClient(path=\"vectorstore\")\n",
    "\n",
    "\n",
    "client = chromadb.PersistentClient(path='vectorstore')\n",
    "collection = client.get_or_create_collection(name=\"portfolio\")\n",
    "\n",
    "if not collection.count():\n",
    "    for _, row in df.iterrows():\n",
    "        collection.add(\n",
    "            documents=[row[\"Techstack\"]],\n",
    "            metadatas=[{\"links\": row[\"Links\"]}],\n",
    "            ids=[str(uuid.uuid4())]\n",
    "        )\n"
   ]
  },
  {
   "cell_type": "code",
   "execution_count": 26,
   "id": "fad12d13",
   "metadata": {},
   "outputs": [
    {
     "name": "stdout",
     "output_type": "stream",
     "text": [
      "[[{'links': 'https://example.com/java-portfolio'}, {'links': 'https://example.com/android-portfolio'}], [{'links': 'https://example.com/ml-python-portfolio'}, {'links': 'https://example.com/python-portfolio'}], [{'links': 'https://example.com/ml-python-portfolio'}, {'links': 'https://example.com/magento-portfolio'}]]\n"
     ]
    }
   ],
   "source": [
    "links = collection.query(query_texts=job['skills'], n_results=2).get('metadatas')\n",
    "print(links)"
   ]
  },
  {
   "cell_type": "code",
   "execution_count": 27,
   "id": "3f31d3e4",
   "metadata": {},
   "outputs": [
    {
     "name": "stdout",
     "output_type": "stream",
     "text": [
      "{'role': 'Software Development Engineer', 'experience': '2+ years', 'skills': ['Java', 'Python', 'C++'], 'description': 'Design, develop, and test software applications'}\n"
     ]
    }
   ],
   "source": [
    "print(job)"
   ]
  },
  {
   "cell_type": "code",
   "execution_count": 25,
   "id": "38dcec2b",
   "metadata": {},
   "outputs": [
    {
     "name": "stdout",
     "output_type": "stream",
     "text": [
      "['Java', 'Python', 'C++']\n"
     ]
    }
   ],
   "source": [
    "job = json_res[0]\n",
    "print(job['skills'])"
   ]
  },
  {
   "cell_type": "code",
   "execution_count": 31,
   "id": "cb5d231c",
   "metadata": {},
   "outputs": [
    {
     "name": "stdout",
     "output_type": "stream",
     "text": [
      "Subject: Expert Software Development Engineer for Seamless Business Process Integration\n",
      "\n",
      "Dear Hiring Manager,\n",
      "\n",
      "I am Prasanna, a Business Development Executive at Amazon, Bangalore. I came across your job posting for a Software Development Engineer and was impressed by the role's requirements. As a leading product-based company dedicated to the seamless integration of business processes through automated tools, I believe Amazon can fulfill your needs.\n",
      "\n",
      "The job description mentions designing, developing, and testing software applications, which aligns with our expertise in Java, Python, and C++. With over 2+ years of experience in software development, our team can deliver high-quality solutions that meet your expectations.\n",
      "\n",
      "I would like to highlight some of our notable portfolios that demonstrate our capabilities:\n",
      "\n",
      "* Java expertise: https://example.com/java-portfolio\n",
      "* Python expertise: https://example.com/python-portfolio and https://example.com/ml-python-portfolio\n",
      "* Android portfolio: https://example.com/android-portfolio\n",
      "\n",
      "These links showcase our proficiency in developing innovative software applications using various technologies. Our team is committed to delivering exceptional results, and I am confident that we can make a significant impact on your business.\n",
      "\n",
      "If you are looking for a reliable partner to design, develop, and test software applications, I would be delighted to discuss this opportunity further. Please feel free to contact me at iamprasanna1@gmail.com to explore how Amazon can support your business needs.\n",
      "\n",
      "Thank you for considering Amazon as a potential partner. I look forward to the opportunity to discuss this further.\n",
      "\n",
      "Best regards,\n",
      "\n",
      "Prasanna\n",
      "Business Development Executive\n",
      "Amazon, Bangalore\n",
      "iamprasanna1@gmail.com\n"
     ]
    }
   ],
   "source": [
    "prompt_email = PromptTemplate.from_template(\n",
    "    \"\"\"\n",
    "    #JOB DESCRIPTION:\n",
    "    {job_description}\n",
    "    \n",
    "    #INSTRUCTION:\n",
    "    You are Prasanna,a business development executive at Amazon.Amazon is an Product based company dedicated\n",
    "    the seamless intergration of business processes through automated tools.\n",
    "    Your job is to write a cold email to the client regarding the job mentioned above in fulfilling\n",
    "    thier needs.\n",
    "    Also add the most relevant ones from the following links to showcase the company's portfolio: {link_list}\n",
    "    Remember you are Prasanna , BDE at Amazon , Banglore\n",
    "    Make it more in a professional format\n",
    "    Mention as writing email to Hiring Manager also mention my email : iamprasanna1@gmail.com\n",
    "    Do not provide a preamble\n",
    "    ### EMAIL (NO PREAMBLE):\n",
    "    \"\"\" \n",
    ")\n",
    "chain_email = prompt_email | llm\n",
    "res = chain_email.invoke({\"job_description\": str(job), \"link_list\": links})\n",
    "print(res.content)"
   ]
  }
 ],
 "metadata": {
  "kernelspec": {
   "display_name": "Python 3",
   "language": "python",
   "name": "python3"
  },
  "language_info": {
   "codemirror_mode": {
    "name": "ipython",
    "version": 3
   },
   "file_extension": ".py",
   "mimetype": "text/x-python",
   "name": "python",
   "nbconvert_exporter": "python",
   "pygments_lexer": "ipython3",
   "version": "3.10.11"
  }
 },
 "nbformat": 4,
 "nbformat_minor": 5
}
